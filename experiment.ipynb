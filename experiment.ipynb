{
 "cells": [
  {
   "cell_type": "code",
   "execution_count": 1,
   "metadata": {},
   "outputs": [
    {
     "name": "stderr",
     "output_type": "stream",
     "text": [
      "Using backend: pytorch\n"
     ]
    }
   ],
   "source": [
    "import numpy as np\n",
    "import matplotlib.pyplot as plt\n",
    "import networkx as nx\n",
    "import dgl\n",
    "import torch\n",
    "import os\n",
    "\n",
    "from pyGAT.model import *\n",
    "from utils import *"
   ]
  },
  {
   "cell_type": "markdown",
   "metadata": {},
   "source": [
    "# Experiment"
   ]
  },
  {
   "cell_type": "code",
   "execution_count": 43,
   "metadata": {},
   "outputs": [],
   "source": [
    "def run(struct, size, epochs, training_size=None):\n",
    "    # make sure to generate before running an experiment\n",
    "    path_to_train = \"./pgm_graph_inference/graphical_models/datasets/train/\"\n",
    "    path_to_test = \"./pgm_graph_inference/graphical_models/datasets/test/\"\n",
    "    path_to_train = os.path.join(path_to_train, struct, str(size))\n",
    "    path_to_test = os.path.join(path_to_test, struct, str(size))\n",
    "    train_adjs, train_margs = get_data_set(path_to_train)\n",
    "    test_adjs, test_margs = get_data_set(path_to_test)\n",
    "\n",
    "    # randomize training data\n",
    "    train_idx = list(range(train_adjs.shape[0]))\n",
    "    np.random.shuffle(train_idx)\n",
    "\n",
    "    if training_size != None:\n",
    "        train_idx = train_idx[0:training_size]\n",
    "\n",
    "    n = size\n",
    "    # change according to graph structure\n",
    "    if struct == 'wheel':\n",
    "        nx_g = nx.wheel_graph(n)\n",
    "    else:\n",
    "        nx_g = nx.path_graph(n)\n",
    "    g = dgl.from_networkx(nx_g)\n",
    "    nodes = g.num_nodes()\n",
    "    model = GAT(g, in_dim = nodes, hidden_dim=200, out_dim=2, num_heads=3)\n",
    "\n",
    "    num_graphs = len(train_idx)\n",
    "    m = nn.Softmax(dim=1)\n",
    "    optimizer = torch.optim.AdamW(model.parameters())\n",
    "    scheduler = torch.optim.lr_scheduler.OneCycleLR(optimizer, total_steps=epochs * num_graphs, max_lr = 1e-2 / num_graphs)\n",
    "    step = 0\n",
    "\n",
    "    acc_list = []\n",
    "    err_list = []\n",
    "    for epoch in range(epochs):\n",
    "        losses = []\n",
    "        for i in range(num_graphs):\n",
    "            logits = m(model(train_adjs[train_idx[i]]))\n",
    "            loss = F.binary_cross_entropy(logits, train_margs[train_idx[i]])\n",
    "            optimizer.zero_grad()\n",
    "            loss.backward()\n",
    "            optimizer.step()\n",
    "            losses.append(loss)\n",
    "            scheduler.step(step)\n",
    "            step += 1\n",
    "        epoch_loss = torch.stack(losses).mean()\n",
    "        #optimizer.zero_grad()\n",
    "        #epoch_loss.backward()\n",
    "        #optimizer.step()\n",
    "        #scheduler.step(epoch)\n",
    "\n",
    "        train_accs = []\n",
    "        train_errs = []\n",
    "        for i in range(num_graphs):\n",
    "            pred = m(model(train_adjs[train_idx[i]]))\n",
    "            err = evaluate_error(pred.detach().numpy(), train_margs[train_idx[i]].detach().numpy())\n",
    "            acc = evaluate_map_acc(pred.detach().numpy(), train_margs[train_idx[i]].detach().numpy())\n",
    "            train_errs.append(err)\n",
    "            train_accs.append(acc)\n",
    "\n",
    "        test_errs = []\n",
    "        test_accs = []\n",
    "        for i in range(test_adjs.size()[0]):\n",
    "            pred = m(model(test_adjs[i]))\n",
    "            err = evaluate_error(pred.detach().numpy(), test_margs[i].detach().numpy())\n",
    "            acc = evaluate_map_acc(pred.detach().numpy(), test_margs[i].detach().numpy())\n",
    "            test_errs.append(err)\n",
    "            test_accs.append(acc)\n",
    "        print('Epoch: %d LR: %.4f Loss: %.4f Train Acc: %.4f Train Err: %.4f Test Acc: %.4f Test Err %.4f' % (\n",
    "                epoch,\n",
    "                optimizer.param_groups[0]['lr'],\n",
    "                epoch_loss.item(),\n",
    "                np.mean(train_accs),\n",
    "                np.mean(train_errs),\n",
    "                np.mean(test_accs),\n",
    "                np.mean(test_errs),\n",
    "            ))\n",
    "        acc_list.append(np.mean(test_accs))\n",
    "        err_list.append(np.mean(test_errs))\n",
    "    \n",
    "    pred_margs = []\n",
    "    for i in range(test_adjs.size()[0]):\n",
    "        pred = m(model(test_adjs[i]))\n",
    "        pred_margs.append(pred)\n",
    "\n",
    "    results = {}\n",
    "    results['acc_list'] = acc_list\n",
    "    results['err_list'] = err_list\n",
    "    results['pred_margs'] = pred_margs\n",
    "    results['test_margs'] = test_margs\n",
    "    return results"
   ]
  },
  {
   "cell_type": "code",
   "execution_count": null,
   "metadata": {},
   "outputs": [],
   "source": [
    "path_9_50 = run('path', 9, 10, 50)\n",
    "path_9_100 = run('path', 9, 10, 100)\n",
    "path_9_1000 = run('path', 9, 10, 1000)\n",
    "\n",
    "x = list(range(1,11))\n",
    "plt.plot(x, path_9_50['acc_list'], label='50')\n",
    "plt.plot(x, path_9_100['acc_list'], label='100')\n",
    "plt.plot(x, path_9_1000['acc_list'], label='1000')\n",
    "plt.legend()\n",
    "plt.title('MAP Accuracy')\n",
    "plt.show()\n",
    "plt.plot(x, path_9_50['err_list'], label='50')\n",
    "plt.plot(x, path_9_100['err_list'], label='100')\n",
    "plt.plot(x, path_9_1000['err_list'], label='1000')\n",
    "plt.legend()\n",
    "plt.title('Error')\n",
    "plt.show()"
   ]
  },
  {
   "cell_type": "code",
   "execution_count": 44,
   "metadata": {},
   "outputs": [
    {
     "name": "stderr",
     "output_type": "stream",
     "text": [
      "C:\\Users\\jhuan\\AppData\\Local\\Programs\\Python\\Python37\\lib\\site-packages\\torch\\optim\\lr_scheduler.py:154: UserWarning: The epoch parameter in `scheduler.step()` was not necessary and is being deprecated where possible. Please use `scheduler.step()` to step the scheduler. During the deprecation, if epoch is different from None, the closed form is used instead of the new chainable form, where available. Please open an issue if you are unable to replicate your use case: https://github.com/pytorch/pytorch/issues/new/choose.\n",
      "  warnings.warn(EPOCH_DEPRECATION_WARNING, UserWarning)\n"
     ]
    },
    {
     "name": "stdout",
     "output_type": "stream",
     "text": [
      "Epoch: 0 LR: 0.0000 Loss: 0.7147 Train Acc: 0.5122 Train Err: 0.2968 Test Acc: 0.5221 Test Err 0.2939\n",
      "Epoch: 1 LR: 0.0000 Loss: 0.6933 Train Acc: 0.5850 Train Err: 0.2786 Test Acc: 0.5814 Test Err 0.2743\n",
      "Epoch: 2 LR: 0.0000 Loss: 0.6611 Train Acc: 0.6638 Train Err: 0.2592 Test Acc: 0.6645 Test Err 0.2533\n",
      "Epoch: 3 LR: 0.0000 Loss: 0.6422 Train Acc: 0.6734 Train Err: 0.2489 Test Acc: 0.6834 Test Err 0.2422\n",
      "Epoch: 4 LR: 0.0000 Loss: 0.6359 Train Acc: 0.6737 Train Err: 0.2446 Test Acc: 0.6845 Test Err 0.2377\n",
      "Epoch: 5 LR: 0.0000 Loss: 0.6340 Train Acc: 0.6734 Train Err: 0.2427 Test Acc: 0.6845 Test Err 0.2357\n",
      "Epoch: 6 LR: 0.0000 Loss: 0.6333 Train Acc: 0.6736 Train Err: 0.2419 Test Acc: 0.6855 Test Err 0.2348\n",
      "Epoch: 7 LR: 0.0000 Loss: 0.6330 Train Acc: 0.6737 Train Err: 0.2415 Test Acc: 0.6861 Test Err 0.2344\n",
      "Epoch: 8 LR: 0.0000 Loss: 0.6329 Train Acc: 0.6734 Train Err: 0.2414 Test Acc: 0.6861 Test Err 0.2343\n",
      "Epoch: 9 LR: 0.0000 Loss: 0.6328 Train Acc: 0.6734 Train Err: 0.2414 Test Acc: 0.6855 Test Err 0.2343\n"
     ]
    }
   ],
   "source": [
    "path_9 = run('path', 9, 10)\n",
    "path_30 = run('path', 30, 10)\n",
    "path_100 = run('path', 100, 10)\n",
    "wheel_9 = run('wheel', 9, 10)"
   ]
  },
  {
   "cell_type": "code",
   "execution_count": 55,
   "metadata": {},
   "outputs": [
    {
     "data": {
      "image/png": "[encoded data removed]",
      "text/plain": [
       "<Figure size 432x288 with 1 Axes>"
      ]
     },
     "metadata": {
      "needs_background": "light"
     },
     "output_type": "display_data"
    }
   ],
   "source": [
    "pred = path_9['pred_margs']\n",
    "true = path_9['test_margs']\n",
    "\n",
    "for i in range(len(pred)):\n",
    "    plt.scatter(pred[i].detach().numpy(), true[i].detach().numpy(), c='red', s=1)\n",
    "plt.xlabel('Pred')\n",
    "plt.ylabel('True')\n",
    "plt.show()\n",
    "\n",
    "pred = path_100['pred_margs']\n",
    "true = path_100['test_margs']\n",
    "\n",
    "for i in range(len(pred)):\n",
    "    plt.scatter(pred[i].detach().numpy(), true[i].detach().numpy(), c='red', s=0.01)\n",
    "plt.xlabel('Pred')\n",
    "plt.ylabel('True')\n",
    "plt.show()"
   ]
  }
 ],
 "metadata": {
  "interpreter": {
   "hash": "e77af475b5f81df4d690417aa8a44d6e5720f33a3203756a3c59efc61a5df59f"
  },
  "kernelspec": {
   "display_name": "Python 3.7.6 64-bit",
   "language": "python",
   "name": "python3"
  },
  "language_info": {
   "codemirror_mode": {
    "name": "ipython",
    "version": 3
   },
   "file_extension": ".py",
   "mimetype": "text/x-python",
   "name": "python",
   "nbconvert_exporter": "python",
   "pygments_lexer": "ipython3",
   "version": "3.7.6"
  },
  "orig_nbformat": 4
 },
 "nbformat": 4,
 "nbformat_minor": 2
}
