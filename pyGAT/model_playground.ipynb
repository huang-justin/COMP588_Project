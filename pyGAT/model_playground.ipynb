{
 "cells": [
  {
   "cell_type": "code",
   "execution_count": 1,
   "metadata": {},
   "outputs": [
    {
     "name": "stderr",
     "output_type": "stream",
     "text": [
      "Using backend: pytorch\n"
     ]
    }
   ],
   "source": [
    "from dgl import DGLGraph\n",
    "from dgl.data import citation_graph as citegrh\n",
    "import networkx as nx\n",
    "import torch\n",
    "\n",
    "def load_cora_data():\n",
    "    data = citegrh.load_cora()\n",
    "    features = torch.FloatTensor(data.features)\n",
    "    labels = torch.LongTensor(data.labels)\n",
    "    mask = torch.BoolTensor(data.train_mask)\n",
    "    g = DGLGraph(data.graph)\n",
    "    return g, features, labels, mask"
   ]
  },
  {
   "cell_type": "code",
   "execution_count": 4,
   "metadata": {},
   "outputs": [
    {
     "name": "stdout",
     "output_type": "stream",
     "text": [
      "  NumNodes: 2708\n",
      "  NumEdges: 10556\n",
      "  NumFeats: 1433\n",
      "  NumClasses: 7\n",
      "  NumTrainingSamples: 140\n",
      "  NumValidationSamples: 500\n",
      "  NumTestSamples: 1000\n",
      "Done loading data from cached files.\n",
      "Epoch 00000 | Loss 1.9454 | Time(s) nan\n",
      "Epoch 00001 | Loss 1.9423 | Time(s) nan\n",
      "Epoch 00002 | Loss 1.9393 | Time(s) nan\n",
      "Epoch 00003 | Loss 1.9362 | Time(s) 0.1206\n",
      "Epoch 00004 | Loss 1.9331 | Time(s) 0.1251\n",
      "Epoch 00005 | Loss 1.9301 | Time(s) 0.1266\n",
      "Epoch 00006 | Loss 1.9270 | Time(s) 0.1241\n",
      "Epoch 00007 | Loss 1.9239 | Time(s) 0.1220\n",
      "Epoch 00008 | Loss 1.9208 | Time(s) 0.1232\n",
      "Epoch 00009 | Loss 1.9177 | Time(s) 0.1232\n",
      "Epoch 00010 | Loss 1.9146 | Time(s) 0.1246\n",
      "Epoch 00011 | Loss 1.9115 | Time(s) 0.1237\n",
      "Epoch 00012 | Loss 1.9083 | Time(s) 0.1239\n",
      "Epoch 00013 | Loss 1.9052 | Time(s) 0.1240\n",
      "Epoch 00014 | Loss 1.9020 | Time(s) 0.1239\n",
      "Epoch 00015 | Loss 1.8988 | Time(s) 0.1241\n",
      "Epoch 00016 | Loss 1.8956 | Time(s) 0.1245\n",
      "Epoch 00017 | Loss 1.8924 | Time(s) 0.1240\n",
      "Epoch 00018 | Loss 1.8891 | Time(s) 0.1237\n",
      "Epoch 00019 | Loss 1.8858 | Time(s) 0.1236\n",
      "Epoch 00020 | Loss 1.8826 | Time(s) 0.1229\n",
      "Epoch 00021 | Loss 1.8792 | Time(s) 0.1230\n",
      "Epoch 00022 | Loss 1.8759 | Time(s) 0.1228\n",
      "Epoch 00023 | Loss 1.8726 | Time(s) 0.1232\n",
      "Epoch 00024 | Loss 1.8692 | Time(s) 0.1231\n",
      "Epoch 00025 | Loss 1.8658 | Time(s) 0.1229\n",
      "Epoch 00026 | Loss 1.8624 | Time(s) 0.1230\n",
      "Epoch 00027 | Loss 1.8589 | Time(s) 0.1228\n",
      "Epoch 00028 | Loss 1.8555 | Time(s) 0.1229\n",
      "Epoch 00029 | Loss 1.8520 | Time(s) 0.1227\n"
     ]
    }
   ],
   "source": [
    "import time\n",
    "import numpy as np\n",
    "from model import *\n",
    "\n",
    "g, features, labels, mask = load_cora_data()\n",
    "\n",
    "net = GAT(g, \n",
    "        in_dim=features.size()[1],\n",
    "        hidden_dim=16,\n",
    "        out_dim=7,\n",
    "        num_heads=2)\n",
    "\n",
    "optimizer = torch.optim.Adam(net.parameters(), lr=1e-3)\n",
    "\n",
    "dur = []\n",
    "for epoch in range(30):\n",
    "    if epoch >= 3:\n",
    "        t0 = time.time()\n",
    "    \n",
    "    logits = net(features)\n",
    "    logp = F.log_softmax(logits, 1)\n",
    "    loss = F.nll_loss(logp[mask], labels[mask])\n",
    "\n",
    "    optimizer.zero_grad()\n",
    "    loss.backward()\n",
    "    optimizer.step()\n",
    "\n",
    "    if epoch >= 3:\n",
    "        dur.append(time.time() - t0)\n",
    "    \n",
    "    print(\"Epoch {:05d} | Loss {:.4f} | Time(s) {:.4f}\".format(\n",
    "        epoch, loss.item(), np.mean(dur)))"
   ]
  },
  {
   "cell_type": "code",
   "execution_count": 7,
   "metadata": {},
   "outputs": [
    {
     "name": "stdout",
     "output_type": "stream",
     "text": [
      "Graph(num_nodes=2708, num_edges=10556,\n",
      "      ndata_schemes={'z': Scheme(shape=(7,), dtype=torch.float32)}\n",
      "      edata_schemes={'e': Scheme(shape=(1,), dtype=torch.float32)})\n"
     ]
    }
   ],
   "source": [
    "print(g)"
   ]
  }
 ],
 "metadata": {
  "interpreter": {
   "hash": "e77af475b5f81df4d690417aa8a44d6e5720f33a3203756a3c59efc61a5df59f"
  },
  "kernelspec": {
   "display_name": "Python 3.7.6 64-bit",
   "language": "python",
   "name": "python3"
  },
  "language_info": {
   "codemirror_mode": {
    "name": "ipython",
    "version": 3
   },
   "file_extension": ".py",
   "mimetype": "text/x-python",
   "name": "python",
   "nbconvert_exporter": "python",
   "pygments_lexer": "ipython3",
   "version": "3.7.6"
  },
  "orig_nbformat": 4
 },
 "nbformat": 4,
 "nbformat_minor": 2
}
